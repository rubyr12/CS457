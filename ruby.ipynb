{
 "cells": [
  {
   "cell_type": "markdown",
   "id": "4afe141c-783e-43cc-b9bc-e53a3414791b",
   "metadata": {},
   "source": [
    "# 1. Numpy arrays"
   ]
  },
  {
   "cell_type": "markdown",
   "id": "cb3026fa-bc47-4cb5-aa48-d9929b497dfa",
   "metadata": {},
   "source": [
    "Numpy has many different types of data \"containers\": lists, dictionaries, tuples etc. However none of them allows for efficient numerical calculation, in particular not in multi-dimensional cases (think e.g. of operations on images). Numpy has been developed exactly to fill this gap. It provides a new data structure, the **numpy array**, and a large library of operations that allow to: \n",
    "- generate such arrays\n",
    "- modify such arrays (projection, extraction of sub-arrays etc.)\n",
    "- apply mathematical operations on them\n",
    "\n",
    "Numpy is the base of almost the entire Python scientific programming stack. Many libraries build on top of Numpy, either by providing specialized functions to operate on them (e.g. scikit-image for image processing) or by creating more complex data containers on top of it. The data science library Pandas that will also be presented in this course is a good example of this with its dataframe structures."
   ]
  },
  {
   "cell_type": "code",
   "execution_count": 88,
   "id": "33c0bb01-d6f3-41cb-971f-3cb7c9dd0ae6",
   "metadata": {},
   "outputs": [],
   "source": [
    "import numpy as np"
   ]
  },
  {
   "cell_type": "code",
   "execution_count": 89,
   "id": "b26cd95e-492b-4055-b30a-1ed2bb69363b",
   "metadata": {},
   "outputs": [
    {
     "data": {
      "text/plain": [
       "[2, 5, 3, 9, 5, 2]"
      ]
     },
     "execution_count": 89,
     "metadata": {},
     "output_type": "execute_result"
    }
   ],
   "source": [
    "mylist = [2,5,3,9,5,2]\n",
    "mylist"
   ]
  },
  {
   "cell_type": "code",
   "execution_count": 90,
   "id": "f88bd544-4d78-496c-b2d3-bdde9f353fff",
   "metadata": {},
   "outputs": [
    {
     "data": {
      "text/plain": [
       "list"
      ]
     },
     "execution_count": 90,
     "metadata": {},
     "output_type": "execute_result"
    }
   ],
   "source": [
    "type(mylist)"
   ]
  },
  {
   "cell_type": "code",
   "execution_count": 91,
   "id": "59fb13a2-f687-486a-b238-5411170baaa6",
   "metadata": {},
   "outputs": [
    {
     "data": {
      "text/plain": [
       "array([2, 5, 3, 9, 5, 2])"
      ]
     },
     "execution_count": 91,
     "metadata": {},
     "output_type": "execute_result"
    }
   ],
   "source": [
    "myarray = np.array(mylist)\n",
    "myarray"
   ]
  },
  {
   "cell_type": "code",
   "execution_count": 92,
   "id": "2153a802-aa35-4f53-914e-ab96b87d525f",
   "metadata": {},
   "outputs": [
    {
     "data": {
      "text/plain": [
       "numpy.ndarray"
      ]
     },
     "execution_count": 92,
     "metadata": {},
     "output_type": "execute_result"
    }
   ],
   "source": [
    "type(myarray)"
   ]
  },
  {
   "cell_type": "markdown",
   "id": "16e04ca9-e4cc-4582-8d7b-e6f32eb8cdb5",
   "metadata": {},
   "source": [
    "### Array Type\n",
    "Just like when we create regular variables in Python, arrays receive a type when created. Unlike regular list, **all** elements of an array always have the same type. The type of an array can be recovered through the ```.dtype``` method:"
   ]
  },
  {
   "cell_type": "code",
   "execution_count": 94,
   "id": "cc33f204-3610-4145-96c2-1bc8ea05e4ee",
   "metadata": {},
   "outputs": [
    {
     "data": {
      "text/plain": [
       "dtype('int32')"
      ]
     },
     "execution_count": 94,
     "metadata": {},
     "output_type": "execute_result"
    }
   ],
   "source": [
    "myarray.dtype"
   ]
  },
  {
   "cell_type": "code",
   "execution_count": 95,
   "id": "2242199b-971c-48c9-b609-a6dbf228670b",
   "metadata": {},
   "outputs": [
    {
     "data": {
      "text/plain": [
       "(array([1.2, 6. , 7.6, 5. ]), dtype('float64'))"
      ]
     },
     "execution_count": 95,
     "metadata": {},
     "output_type": "execute_result"
    }
   ],
   "source": [
    "myarray2 = np.array([1.2, 6, 7.6, 5])\n",
    "myarray2, myarray2.dtype"
   ]
  },
  {
   "cell_type": "code",
   "execution_count": 96,
   "id": "5bd267ba-45ad-48f8-80c2-cc9cf0b3734e",
   "metadata": {},
   "outputs": [
    {
     "data": {
      "text/plain": [
       "(6,)"
      ]
     },
     "execution_count": 96,
     "metadata": {},
     "output_type": "execute_result"
    }
   ],
   "source": [
    "myarray.shape"
   ]
  },
  {
   "cell_type": "code",
   "execution_count": 97,
   "id": "6816add6-4a03-43dd-add9-0a7841f9d814",
   "metadata": {},
   "outputs": [
    {
     "data": {
      "text/plain": [
       "array([[1, 2, 3],\n",
       "       [4, 5, 6]])"
      ]
     },
     "execution_count": 97,
     "metadata": {},
     "output_type": "execute_result"
    }
   ],
   "source": [
    "my2d_list = [[1,2,3], [4,5,6]]\n",
    "\n",
    "my2d_array = np.array(my2d_list)\n",
    "my2d_array"
   ]
  },
  {
   "cell_type": "code",
   "execution_count": 98,
   "id": "446a3c85-c68e-446b-a089-700d060dfabc",
   "metadata": {},
   "outputs": [
    {
     "data": {
      "text/plain": [
       "(2, 3)"
      ]
     },
     "execution_count": 98,
     "metadata": {},
     "output_type": "execute_result"
    }
   ],
   "source": [
    "my2d_array.shape"
   ]
  },
  {
   "cell_type": "code",
   "execution_count": 99,
   "id": "838ddd86-109a-4bea-a010-ef9be9823662",
   "metadata": {},
   "outputs": [
    {
     "data": {
      "text/plain": [
       "array([[1., 1., 1.],\n",
       "       [1., 1., 1.]])"
      ]
     },
     "execution_count": 99,
     "metadata": {},
     "output_type": "execute_result"
    }
   ],
   "source": [
    "one_array = np.ones((2,3))\n",
    "one_array"
   ]
  },
  {
   "cell_type": "code",
   "execution_count": 100,
   "id": "7fa3307d-436d-4d4f-8510-2cfc447a8c27",
   "metadata": {},
   "outputs": [
    {
     "data": {
      "text/plain": [
       "array([[0., 0., 0.],\n",
       "       [0., 0., 0.]])"
      ]
     },
     "execution_count": 100,
     "metadata": {},
     "output_type": "execute_result"
    }
   ],
   "source": [
    "zero_array = np.zeros((2,3))\n",
    "zero_array"
   ]
  },
  {
   "cell_type": "code",
   "execution_count": null,
   "id": "a3352a2d-8e5b-4c14-8940-be7cf84505ff",
   "metadata": {},
   "outputs": [],
   "source": []
  },
  {
   "cell_type": "markdown",
   "id": "1440c2e6-503a-4d13-9e27-eb79b7e4327c",
   "metadata": {},
   "source": [
    "### Dot\n",
    "**Linear Algebra Matrix Multiplication**\n",
    "\n",
    "Let's represent that in matrix form:\n",
    "\n",
    "$$\\begin{bmatrix} y_1 \\\\ y_2 \\\\ \\vdots \\\\ y_n \\end{bmatrix}=\\begin{bmatrix} x_01 & x_1 \\\\ x_02 & x_2 \\\\ \\vdots & \\vdots \\\\ x_0n & x_n \\end{bmatrix} \\begin{bmatrix} w_0 & w_1 \\end{bmatrix}$$\n",
    "\n",
    "Rules:\n",
    "\n",
    "$$y_1=(x_01⋅w_0)+(x_1⋅w_1)$$\n",
    "\n",
    "$$y_2=(x_02⋅w_0)+(x_2⋅w_1)$$\n",
    "\n",
    "$$\\dots$$\n",
    "\n",
    "$$y_n=(x_0n⋅w_0)+(x_n⋅w_1)$$"
   ]
  },
  {
   "cell_type": "code",
   "execution_count": 102,
   "id": "2751a451-3ff7-4a03-b4ff-144941479951",
   "metadata": {},
   "outputs": [
    {
     "data": {
      "text/plain": [
       "array([17, 11, 14])"
      ]
     },
     "execution_count": 102,
     "metadata": {},
     "output_type": "execute_result"
    }
   ],
   "source": [
    "X = np.array([[1, 5], [1, 3], [1, 4]])\n",
    "w = np.array([2, 3])\n",
    "\n",
    "# Compute the dot product between 'X' and 'w'\n",
    "# This calculates the predicted values for each data point as: X[0]*w[0] + X[1]*w[1]\n",
    "# Result is an array where each element corresponds to the prediction for a row in X\n",
    "\n",
    "# y1=(1⋅2)+(5⋅3)=2+15=17\n",
    "# y2=(1⋅2)+(3⋅3)=2+9=11\n",
    "# y3=(1⋅2)+(4⋅3)=2+12=14\n",
    "\n",
    "y = np.dot(X, w)\n",
    "y"
   ]
  },
  {
   "cell_type": "code",
   "execution_count": 103,
   "id": "03475163-0491-46c4-99ce-af213d6333ec",
   "metadata": {},
   "outputs": [
    {
     "data": {
      "text/plain": [
       "(array([[ 0,  1,  2,  3],\n",
       "        [ 4,  5,  6,  7],\n",
       "        [ 8,  9, 10, 11]]),\n",
       " array([0, 1, 2, 3]))"
      ]
     },
     "execution_count": 103,
     "metadata": {},
     "output_type": "execute_result"
    }
   ],
   "source": [
    "A = np.arange(12).reshape((3,4))\n",
    "B = np.arange(4)\n",
    "A,B              "
   ]
  },
  {
   "cell_type": "markdown",
   "id": "99bf477a-c44c-45a7-a365-3a0abfb98015",
   "metadata": {},
   "source": [
    "### <span style=\"color:red\">Please add your comments in here</span>."
   ]
  },
  {
   "cell_type": "code",
   "execution_count": 105,
   "id": "d6dc4fa4-0f8f-4577-9bbd-03c06b548bef",
   "metadata": {},
   "outputs": [
    {
     "data": {
      "text/plain": [
       "array([14, 38, 62])"
      ]
     },
     "execution_count": 105,
     "metadata": {},
     "output_type": "execute_result"
    }
   ],
   "source": [
    "np.dot(A,B)\n",
    "# Add your comments\n",
    "# Please explain how to use np.dot to perform matrix multiplication for A and B.\n",
    "# To use np.dot to perform matrix multiplication on A and B, you would enter A as the first argument and B as the second argument: np.dot(A,B)\n",
    "# Provide a step-by-step explanation of the calculation process as above.\n",
    "# (A[0, 0] * B[0]) + (A[0, 1] * B[1]) + (A[0, 2] * B[2]) + (A[0, 3] * B[3]) = (0 * 0) + (1 * 1) + (2 * 2) + (3 * 3) = 14\n",
    "# (A[1, 0] * B[0]) + (A[1, 1] * B[1]) + (A[1, 2] * B[2]) + (A[1, 3] * B[3]) = (4 * 0) + (5 * 1) + (6 * 2) + (7 * 3) = 38\n",
    "# (A[2, 0] * B[0]) + (A[2, 1] * B[1]) + (A[2, 2] * B[2]) + (A[2, 3] * B[3]) = (8 * 0) + (9 * 1) + (10 * 2) + (11 * 3) = 62"
   ]
  },
  {
   "cell_type": "code",
   "execution_count": 106,
   "id": "f7db0808-53c2-460c-8922-f16f7412fe26",
   "metadata": {},
   "outputs": [
    {
     "data": {
      "text/plain": [
       "array([14, 38, 62])"
      ]
     },
     "execution_count": 106,
     "metadata": {},
     "output_type": "execute_result"
    }
   ],
   "source": [
    "A @ B"
   ]
  },
  {
   "cell_type": "markdown",
   "id": "0a803bca-edd0-4618-bc0e-229cf1987115",
   "metadata": {},
   "source": [
    "### Dictionary \n",
    "\n",
    "A Python dictionary is a built-in data structure used to store data as key-value pairs. It is highly efficient for looking up, adding, and deleting data by key. Below are the rules and features that govern Python dictionaries:"
   ]
  },
  {
   "cell_type": "code",
   "execution_count": 108,
   "id": "76de10d8-c980-4c33-ba7a-d73a7ab5dbf7",
   "metadata": {},
   "outputs": [],
   "source": [
    "my_dict = {1: \"value\", \"key\": 42, (2, 3): \"tuple_key_value\"}\n",
    "# Invalid: my_dict = {[1, 2]: \"value\"}  # Lists cannot be keys"
   ]
  },
  {
   "cell_type": "code",
   "execution_count": 109,
   "id": "d27806cf-d9fb-40fd-bcac-3809d47e1880",
   "metadata": {},
   "outputs": [
    {
     "data": {
      "text/plain": [
       "'value'"
      ]
     },
     "execution_count": 109,
     "metadata": {},
     "output_type": "execute_result"
    }
   ],
   "source": [
    "my_dict[1]"
   ]
  },
  {
   "cell_type": "code",
   "execution_count": 110,
   "id": "5b910244-94e7-4357-9aa6-14d1eae64544",
   "metadata": {},
   "outputs": [
    {
     "data": {
      "text/plain": [
       "42"
      ]
     },
     "execution_count": 110,
     "metadata": {},
     "output_type": "execute_result"
    }
   ],
   "source": [
    "my_dict[\"key\"]"
   ]
  },
  {
   "cell_type": "code",
   "execution_count": 111,
   "id": "543bd3f4-351b-4f23-a1fb-06c3b8bbabdb",
   "metadata": {},
   "outputs": [
    {
     "data": {
      "text/plain": [
       "'tuple_key_value'"
      ]
     },
     "execution_count": 111,
     "metadata": {},
     "output_type": "execute_result"
    }
   ],
   "source": [
    "my_dict[(2,3)]"
   ]
  },
  {
   "cell_type": "markdown",
   "id": "74e7af9f-288c-424c-8ea8-2c4187d33232",
   "metadata": {},
   "source": [
    "# 2. Pandas"
   ]
  },
  {
   "cell_type": "code",
   "execution_count": 113,
   "id": "eb62573d-da4e-4597-a96a-a79666ab4f6c",
   "metadata": {},
   "outputs": [
    {
     "data": {
      "text/plain": [
       "{'k1': ['one', 'two', 'one', 'two', 'one', 'two', 'two'],\n",
       " 'k2': [1, 1, 2, 3, 3, 4, 4]}"
      ]
     },
     "execution_count": 113,
     "metadata": {},
     "output_type": "execute_result"
    }
   ],
   "source": [
    "import pandas as pd\n",
    "myDict = {'k1': ['one', 'two'] * 3 + ['two'],\n",
    "         'k2': [1,1,2,3,3,4,4]}\n",
    "\n",
    "myDict"
   ]
  },
  {
   "cell_type": "code",
   "execution_count": 114,
   "id": "0826ed1b-a650-4ff5-9d8f-c0c303690022",
   "metadata": {},
   "outputs": [
    {
     "data": {
      "text/html": [
       "<div>\n",
       "<style scoped>\n",
       "    .dataframe tbody tr th:only-of-type {\n",
       "        vertical-align: middle;\n",
       "    }\n",
       "\n",
       "    .dataframe tbody tr th {\n",
       "        vertical-align: top;\n",
       "    }\n",
       "\n",
       "    .dataframe thead th {\n",
       "        text-align: right;\n",
       "    }\n",
       "</style>\n",
       "<table border=\"1\" class=\"dataframe\">\n",
       "  <thead>\n",
       "    <tr style=\"text-align: right;\">\n",
       "      <th></th>\n",
       "      <th>k1</th>\n",
       "      <th>k2</th>\n",
       "    </tr>\n",
       "  </thead>\n",
       "  <tbody>\n",
       "    <tr>\n",
       "      <th>0</th>\n",
       "      <td>one</td>\n",
       "      <td>1</td>\n",
       "    </tr>\n",
       "    <tr>\n",
       "      <th>1</th>\n",
       "      <td>two</td>\n",
       "      <td>1</td>\n",
       "    </tr>\n",
       "    <tr>\n",
       "      <th>2</th>\n",
       "      <td>one</td>\n",
       "      <td>2</td>\n",
       "    </tr>\n",
       "    <tr>\n",
       "      <th>3</th>\n",
       "      <td>two</td>\n",
       "      <td>3</td>\n",
       "    </tr>\n",
       "    <tr>\n",
       "      <th>4</th>\n",
       "      <td>one</td>\n",
       "      <td>3</td>\n",
       "    </tr>\n",
       "    <tr>\n",
       "      <th>5</th>\n",
       "      <td>two</td>\n",
       "      <td>4</td>\n",
       "    </tr>\n",
       "    <tr>\n",
       "      <th>6</th>\n",
       "      <td>two</td>\n",
       "      <td>4</td>\n",
       "    </tr>\n",
       "  </tbody>\n",
       "</table>\n",
       "</div>"
      ],
      "text/plain": [
       "    k1  k2\n",
       "0  one   1\n",
       "1  two   1\n",
       "2  one   2\n",
       "3  two   3\n",
       "4  one   3\n",
       "5  two   4\n",
       "6  two   4"
      ]
     },
     "execution_count": 114,
     "metadata": {},
     "output_type": "execute_result"
    }
   ],
   "source": [
    "import pandas as pd\n",
    "data = pd.DataFrame(myDict)\n",
    "data"
   ]
  },
  {
   "cell_type": "markdown",
   "id": "e0725658-314f-4a48-adeb-260d43d76a80",
   "metadata": {},
   "source": [
    "### Renaming Axis Indexes\n",
    "#### Just like values, axis labels can also be transformed by a function or mapping to produce differntly labeled objects.\n",
    "#### We can also modify axes in-place without any new data structure."
   ]
  },
  {
   "cell_type": "code",
   "execution_count": 116,
   "id": "892940f9-071a-4c1d-a86b-f96b58bca0db",
   "metadata": {},
   "outputs": [],
   "source": [
    "data = pd.DataFrame(np.arange(12).reshape((3,4)),\n",
    "                   index = ['Ohio', 'Indiana', 'New York'],\n",
    "                   columns = ['one', 'two', 'three', 'four'])"
   ]
  },
  {
   "cell_type": "code",
   "execution_count": 117,
   "id": "427010db-3308-4843-a78b-a03d9d5c4bde",
   "metadata": {},
   "outputs": [
    {
     "data": {
      "text/plain": [
       "array([[ 0,  1,  2,  3],\n",
       "       [ 4,  5,  6,  7],\n",
       "       [ 8,  9, 10, 11]])"
      ]
     },
     "execution_count": 117,
     "metadata": {},
     "output_type": "execute_result"
    }
   ],
   "source": [
    "np.arange(12).reshape((3,4))"
   ]
  },
  {
   "cell_type": "code",
   "execution_count": 118,
   "id": "a9e4a52f-b4af-4522-a31c-44bdf149c07c",
   "metadata": {},
   "outputs": [
    {
     "data": {
      "text/html": [
       "<div>\n",
       "<style scoped>\n",
       "    .dataframe tbody tr th:only-of-type {\n",
       "        vertical-align: middle;\n",
       "    }\n",
       "\n",
       "    .dataframe tbody tr th {\n",
       "        vertical-align: top;\n",
       "    }\n",
       "\n",
       "    .dataframe thead th {\n",
       "        text-align: right;\n",
       "    }\n",
       "</style>\n",
       "<table border=\"1\" class=\"dataframe\">\n",
       "  <thead>\n",
       "    <tr style=\"text-align: right;\">\n",
       "      <th></th>\n",
       "      <th>one</th>\n",
       "      <th>two</th>\n",
       "      <th>three</th>\n",
       "      <th>four</th>\n",
       "    </tr>\n",
       "  </thead>\n",
       "  <tbody>\n",
       "    <tr>\n",
       "      <th>Ohio</th>\n",
       "      <td>0</td>\n",
       "      <td>1</td>\n",
       "      <td>2</td>\n",
       "      <td>3</td>\n",
       "    </tr>\n",
       "    <tr>\n",
       "      <th>Indiana</th>\n",
       "      <td>4</td>\n",
       "      <td>5</td>\n",
       "      <td>6</td>\n",
       "      <td>7</td>\n",
       "    </tr>\n",
       "    <tr>\n",
       "      <th>New York</th>\n",
       "      <td>8</td>\n",
       "      <td>9</td>\n",
       "      <td>10</td>\n",
       "      <td>11</td>\n",
       "    </tr>\n",
       "  </tbody>\n",
       "</table>\n",
       "</div>"
      ],
      "text/plain": [
       "          one  two  three  four\n",
       "Ohio        0    1      2     3\n",
       "Indiana     4    5      6     7\n",
       "New York    8    9     10    11"
      ]
     },
     "execution_count": 118,
     "metadata": {},
     "output_type": "execute_result"
    }
   ],
   "source": [
    "data"
   ]
  },
  {
   "cell_type": "markdown",
   "id": "7775f5a7-2cab-4794-b803-81af84113eef",
   "metadata": {},
   "source": [
    "### Read CSV"
   ]
  },
  {
   "cell_type": "code",
   "execution_count": 123,
   "id": "c7dfb51c-67fa-4bc3-ad9e-0066fb5f8b5a",
   "metadata": {},
   "outputs": [
    {
     "data": {
      "text/html": [
       "<div>\n",
       "<style scoped>\n",
       "    .dataframe tbody tr th:only-of-type {\n",
       "        vertical-align: middle;\n",
       "    }\n",
       "\n",
       "    .dataframe tbody tr th {\n",
       "        vertical-align: top;\n",
       "    }\n",
       "\n",
       "    .dataframe thead th {\n",
       "        text-align: right;\n",
       "    }\n",
       "</style>\n",
       "<table border=\"1\" class=\"dataframe\">\n",
       "  <thead>\n",
       "    <tr style=\"text-align: right;\">\n",
       "      <th></th>\n",
       "      <th>Name</th>\n",
       "      <th>Age</th>\n",
       "      <th>Height(in cm)</th>\n",
       "    </tr>\n",
       "  </thead>\n",
       "  <tbody>\n",
       "    <tr>\n",
       "      <th>0</th>\n",
       "      <td>John</td>\n",
       "      <td>45</td>\n",
       "      <td>150</td>\n",
       "    </tr>\n",
       "    <tr>\n",
       "      <th>1</th>\n",
       "      <td>Sammy</td>\n",
       "      <td>38</td>\n",
       "      <td>180</td>\n",
       "    </tr>\n",
       "    <tr>\n",
       "      <th>2</th>\n",
       "      <td>Joe</td>\n",
       "      <td>90</td>\n",
       "      <td>160</td>\n",
       "    </tr>\n",
       "  </tbody>\n",
       "</table>\n",
       "</div>"
      ],
      "text/plain": [
       "    Name  Age  Height(in cm)\n",
       "0   John   45            150\n",
       "1  Sammy   38            180\n",
       "2    Joe   90            160"
      ]
     },
     "execution_count": 123,
     "metadata": {},
     "output_type": "execute_result"
    }
   ],
   "source": [
    "df = pd.read_csv('out.csv')\n",
    "df"
   ]
  },
  {
   "cell_type": "code",
   "execution_count": null,
   "id": "2e8c3181-3955-4c77-ab84-71f3f6ce8e34",
   "metadata": {},
   "outputs": [],
   "source": [
    "df.columns"
   ]
  },
  {
   "cell_type": "code",
   "execution_count": null,
   "id": "bcb6b4cf-dad7-4dac-b413-da18ac01f181",
   "metadata": {},
   "outputs": [],
   "source": [
    "df[['Age','Height(in cm)']]"
   ]
  },
  {
   "cell_type": "markdown",
   "id": "f01dab02-8862-482b-9e7a-9690adb7295e",
   "metadata": {},
   "source": [
    "### Save CSV"
   ]
  },
  {
   "cell_type": "code",
   "execution_count": 121,
   "id": "f9e8a8cf-61a7-44fb-8de6-677222739540",
   "metadata": {},
   "outputs": [],
   "source": [
    " df = pd.DataFrame({ \n",
    "     'Name': ['John', 'Sammy', 'Joe'], \n",
    "     'Age': [45, 38, 90], \n",
    "     'Height(in cm)': [150, 180, 160] \n",
    " }) \n",
    " df.to_csv('out.csv', index=False)\n"
   ]
  },
  {
   "cell_type": "markdown",
   "id": "d5dee7db-a598-4efb-8dbf-5a1298f98342",
   "metadata": {},
   "source": [
    "### <span style=\"color:red\">Please add your comments in here</span>."
   ]
  },
  {
   "cell_type": "code",
   "execution_count": 125,
   "id": "53885908-7f3f-41a9-bfd4-8ce2eeb5bef2",
   "metadata": {},
   "outputs": [],
   "source": [
    "# Please Save your full name, student ID, and hometown into a csv file, name the CSV file your first name and upload it to GitHub.\n",
    "df = pd.DataFrame({\n",
    "    'Full Name' : ['Ruby Rosales'],\n",
    "    'Student ID' : [49506976],\n",
    "    'Hometown' : ['Yakima']\n",
    "})\n",
    "df.to_csv('ruby.csv', index=False)\n",
    "    "
   ]
  },
  {
   "cell_type": "markdown",
   "id": "6b1f866f-a0f9-444d-8928-56d509441ab9",
   "metadata": {},
   "source": [
    "# 3. Visualization\n",
    "### Pandas Visualization"
   ]
  },
  {
   "cell_type": "code",
   "execution_count": null,
   "id": "21afc3df-4194-4667-b058-cc279e58d37d",
   "metadata": {},
   "outputs": [],
   "source": [
    "df.plot(x=\"Name\", y=[\"Age\", \"Height(in cm)\"], kind=\"bar\") "
   ]
  },
  {
   "cell_type": "code",
   "execution_count": null,
   "id": "0647e6e8-97d3-4c69-a9cc-e424b3ecbe13",
   "metadata": {},
   "outputs": [],
   "source": [
    "# plotting Height \n",
    "ax = df.plot(x=\"Name\", y=\"Height(in cm)\", kind=\"bar\") \n",
    "# plotting age on the same axis \n",
    "df.plot(x=\"Name\", y=\"Age\", kind=\"bar\",ax=ax, color=\"red\") "
   ]
  },
  {
   "cell_type": "markdown",
   "id": "627e9a28-df79-49e7-865b-2975df3a4d50",
   "metadata": {},
   "source": [
    "### matplotlib.pyplot Visualization"
   ]
  },
  {
   "cell_type": "code",
   "execution_count": null,
   "id": "b0acaade-83a4-4d12-a85a-fe9e3153bcba",
   "metadata": {},
   "outputs": [],
   "source": [
    "import matplotlib.pyplot as plt"
   ]
  },
  {
   "cell_type": "code",
   "execution_count": null,
   "id": "cc8851ea-6038-4c66-a63c-9d1c7913d37a",
   "metadata": {},
   "outputs": [],
   "source": [
    "names = ['John', 'Sammy', 'Joe']\n",
    "ages = [45, 38, 90]\n",
    "heights = [150, 180, 160] \n",
    "\n",
    "# X positions for bars\n",
    "x = np.arange(len(names))\n",
    "width = 0.35  # Width of the bars\n",
    "\n",
    "# Plotting the bars\n",
    "fig, ax = plt.subplots()\n",
    "ax.bar(x - width/2, ages, width, label='Age')\n",
    "ax.bar(x + width/2, heights, width, label='Height (in cm)')\n",
    "\n",
    "# Adding labels and title\n",
    "ax.set_xlabel('Name')\n",
    "ax.set_ylabel('Values')\n",
    "ax.set_title('Age and Height Comparison')\n",
    "ax.set_xticks(x)\n",
    "ax.set_xticklabels(names)\n",
    "ax.legend(loc=2)\n",
    "\n",
    "plt.show()"
   ]
  },
  {
   "cell_type": "code",
   "execution_count": null,
   "id": "0b53c6b4-988f-4b0b-87be-131ea176bd9e",
   "metadata": {},
   "outputs": [],
   "source": [
    "names = ['John', 'Sammy', 'Joe']\n",
    "ages = [45, 38, 90]\n",
    "heights = [150, 180, 160] \n",
    "\n",
    "# X positions for bars\n",
    "x = np.arange(len(names))\n",
    "\n",
    "# Plotting the stacked bars\n",
    "fig, ax = plt.subplots()\n",
    "\n",
    "ax.bar(x, heights,width=0.4, label='Height (in cm)', color='blue')\n",
    "ax.bar(x, ages,width=0.4,  label='Age', color='red') #bottom=heights, \n",
    "\n",
    "\n",
    "# Adding labels and title\n",
    "ax.set_xlabel('Name')\n",
    "ax.set_ylabel('Values')\n",
    "ax.set_title('Age and Height Comparison (Stacked)')\n",
    "ax.set_xticks(x)\n",
    "ax.set_xticklabels(names)\n",
    "ax.legend()\n",
    "\n",
    "plt.show()"
   ]
  },
  {
   "cell_type": "code",
   "execution_count": null,
   "id": "3f39ba84-9ee5-4361-826a-ff85ffff98ca",
   "metadata": {},
   "outputs": [],
   "source": [
    "# Convert names to numerical values for plotting\n",
    "x = np.arange(len(names))\n",
    "\n",
    "# Plotting linear results\n",
    "fig, ax = plt.subplots()\n",
    "ax.plot(x, heights, marker='o', label='Height (in cm)', color='blue', linestyle='--')\n",
    "ax.plot(x, ages, marker='s', label='Age', color='red', linestyle='-')\n",
    "\n",
    "# Adding labels and title\n",
    "ax.set_xlabel('Name')\n",
    "ax.set_ylabel('Values')\n",
    "ax.set_title('Linear Results of Age and Height')\n",
    "ax.set_xticks(x)\n",
    "ax.set_xticklabels(names)\n",
    "ax.legend()\n",
    "\n",
    "plt.show()"
   ]
  },
  {
   "cell_type": "code",
   "execution_count": null,
   "id": "fde0bdec-b322-4c5d-b446-46387109e5c2",
   "metadata": {},
   "outputs": [],
   "source": []
  }
 ],
 "metadata": {
  "kernelspec": {
   "display_name": "Python [conda env:base] *",
   "language": "python",
   "name": "conda-base-py"
  },
  "language_info": {
   "codemirror_mode": {
    "name": "ipython",
    "version": 3
   },
   "file_extension": ".py",
   "mimetype": "text/x-python",
   "name": "python",
   "nbconvert_exporter": "python",
   "pygments_lexer": "ipython3",
   "version": "3.12.7"
  }
 },
 "nbformat": 4,
 "nbformat_minor": 5
}
