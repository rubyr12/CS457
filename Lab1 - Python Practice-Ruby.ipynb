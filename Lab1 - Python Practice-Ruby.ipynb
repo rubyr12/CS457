{
 "cells": [
  {
   "cell_type": "markdown",
   "metadata": {},
   "source": [
    "# Exercises with Python"
   ]
  },
  {
   "cell_type": "code",
   "execution_count": 2,
   "metadata": {},
   "outputs": [],
   "source": [
    "# Imports\n",
    "import numpy as np\n",
    "import matplotlib.pyplot as plt\n",
    "import pandas as pd"
   ]
  },
  {
   "cell_type": "markdown",
   "metadata": {},
   "source": [
    "## Exercise 1 - Numpy\n",
    "#### Creat an array of 450 random integers between -10 and 10"
   ]
  },
  {
   "cell_type": "code",
   "execution_count": 4,
   "metadata": {},
   "outputs": [
    {
     "data": {
      "text/plain": [
       "array([  1,  -2,  -9,  -8,   3,   1,  -1,  -7,  -8,  -8,  -1,  -3,   4,\n",
       "         4,  -2,  -9,   7,   5,   5,   7,   8, -10,   9,   3,  -3,  -6,\n",
       "         9,   8,  -4,  -8,  -6,  -1,  -9,   0,   7, -10,  -8,  -8,  -6,\n",
       "         0,  -3,  -7, -10,   3,   3,   4,   7,  -9,   7,  -1,  -6,  -8,\n",
       "        -1,   5,   6,  -8,   6,   5,  -9, -10,  -1,  -5,   3,   8,   4,\n",
       "        -5,   2,   9,   8,  -5,   0,  -2,   3,   2,  -7,  -5,  -4,   9,\n",
       "        -8,   8,   6,   4,  -6,  -1,  -7,   2,  -6,   5,  -2,  -5,  -3,\n",
       "        -3,   5,  -7,  -5,   8,   9,   3,  -4,  -6,  -7,  -6,   5,   9,\n",
       "        -3,  -4,   4,   1,   8,   1,   6,   0,   2,   4,   2,  -2,   9,\n",
       "         9,   8,   3,   0,   2,   3,   6,  -6,  -2,   6,  -2,   1,  -2,\n",
       "         8,   3,   3,   0,   1,   2,   7,   5,   4,   7,   5,  -2,  -9,\n",
       "        -2,  -7,   2,  -6,   1,   0,   2,   5,   2,  -5,   3,   6,  -3,\n",
       "         4,  -8, -10,   4,  -7,  -2,   3,  -1,  -1,   0,  -8,  -5,  -3,\n",
       "        -4,  -1,   5,  -3,   2,  -6,   1,  -1,   3,   0,   7,  -5,  -1,\n",
       "        -8,   7,   4,   1,  -8, -10,   8,  -1,  -5,  -5,  -8,  -6,   6,\n",
       "         3,   8,   2,   0,  -4,   8,  -1, -10,   7,   0,   8,   2,  -7,\n",
       "        -6,  -5,   5,  -3,   3,   3,   1,   3,   3,  -3,  -9, -10,   5,\n",
       "        -8,   0,   6,   2,  -3,   4,   4,   6,  -9,   5,  -9,   2,  -8,\n",
       "        -5,  -9,   8,   3,  -4,  -9,  -1,  -4,   7,   2,   2,   0,  -4,\n",
       "         9,  -4,   4,  -2,   6,   9,  -4,  -6,  -2,   8,   8,   2,   2,\n",
       "        -4,  -1,   7,   5,   0,   2,  -5,   9,  -3,  -3,  -8,  -1,  -4,\n",
       "        -4,  -2,   8,   4,   6,  -3,  -4,   3,   3,  -8,  -7,  -5, -10,\n",
       "         1, -10,   5,   6, -10,   7,  -5,   7,   9,   0,  -6,   0, -10,\n",
       "        -6,   3,  -5,  -4,   7,   9,   7,   4,   8,   3,  -6, -10,   2,\n",
       "        -1,   3,   6,  -3,  -9,  -6,   9, -10,   3,  -9,  -2,   9,   3,\n",
       "         2,   5,  -4,   8,  -3,  -1,   7, -10,   3,   3,   7,   8,   1,\n",
       "         0,   8,  -9,  -1,  -9,  -4,   3,   0,   1,  -6,   3,  -6,   3,\n",
       "         8,  -3,   9,  -6,   1,   5,  -3,  -6,  -1,   2,   8,  -6,  -5,\n",
       "        -3,   7,   6,  -7,  -1,   3,  -4,  -9,   5,  -8,  -1,  -8,   8,\n",
       "       -10,   2,   1,   7,  -6,  -9,  -4,   7,   0,  -3, -10,  -1,   8,\n",
       "         8,   3,  -5,   2,   4, -10,   1,  -8, -10,   0,   1,  -5,   2,\n",
       "         2,  -7,   7, -10,   7,   0,  -3,   3,   6,   4,   5,  -4,   7,\n",
       "        -5,  -7,   1,  -4,   9,  -5,  -1,   6,   6,  -2,  -1,  -8,  -1,\n",
       "         5,  -4,   9,   9,   1, -10,   8,  -2,   1,  -9,  -9,   1,   0,\n",
       "         7,  -1,   0,  -8,   5,   3,   7,  -3])"
      ]
     },
     "execution_count": 4,
     "metadata": {},
     "output_type": "execute_result"
    }
   ],
   "source": [
    "# Create array\n",
    "array = np.random.randint(-10, 10, 450)\n",
    "\n",
    "array"
   ]
  },
  {
   "cell_type": "markdown",
   "metadata": {},
   "source": [
    "#### Resize the above array as a 5x70 matrix. \n",
    "#### Is there a problem? \n",
    "\n",
    "#### If there is, correct it to a suitable shape.\n",
    "\n",
    "We check what dimension our array has:"
   ]
  },
  {
   "cell_type": "code",
   "execution_count": 6,
   "metadata": {},
   "outputs": [
    {
     "name": "stdout",
     "output_type": "stream",
     "text": [
      "(450,)\n"
     ]
    }
   ],
   "source": [
    "# Print array shape\n",
    "print(array.shape)\n",
    "# Resize array\n",
    "new_matrix = np.resize(array, (5, 70))"
   ]
  },
  {
   "cell_type": "code",
   "execution_count": 7,
   "metadata": {},
   "outputs": [
    {
     "data": {
      "text/plain": [
       "(5, 70)"
      ]
     },
     "execution_count": 7,
     "metadata": {},
     "output_type": "execute_result"
    }
   ],
   "source": [
    "new_matrix.shape"
   ]
  },
  {
   "cell_type": "markdown",
   "metadata": {},
   "source": [
    "We resize:"
   ]
  },
  {
   "cell_type": "code",
   "execution_count": 9,
   "metadata": {},
   "outputs": [
    {
     "data": {
      "text/plain": [
       "array([[  1,  -2,  -9,  -8,   3,   1,  -1,  -7,  -8,  -8,  -1,  -3,   4,\n",
       "          4,  -2,  -9,   7,   5,   5,   7,   8, -10,   9,   3,  -3,  -6,\n",
       "          9,   8,  -4,  -8,  -6,  -1,  -9,   0,   7, -10,  -8,  -8,  -6,\n",
       "          0,  -3,  -7, -10,   3,   3,   4,   7,  -9,   7,  -1,  -6,  -8,\n",
       "         -1,   5,   6,  -8,   6,   5,  -9, -10,  -1,  -5,   3,   8,   4,\n",
       "         -5,   2,   9,   8,  -5],\n",
       "       [  0,  -2,   3,   2,  -7,  -5,  -4,   9,  -8,   8,   6,   4,  -6,\n",
       "         -1,  -7,   2,  -6,   5,  -2,  -5,  -3,  -3,   5,  -7,  -5,   8,\n",
       "          9,   3,  -4,  -6,  -7,  -6,   5,   9,  -3,  -4,   4,   1,   8,\n",
       "          1,   6,   0,   2,   4,   2,  -2,   9,   9,   8,   3,   0,   2,\n",
       "          3,   6,  -6,  -2,   6,  -2,   1,  -2,   8,   3,   3,   0,   1,\n",
       "          2,   7,   5,   4,   7],\n",
       "       [  5,  -2,  -9,  -2,  -7,   2,  -6,   1,   0,   2,   5,   2,  -5,\n",
       "          3,   6,  -3,   4,  -8, -10,   4,  -7,  -2,   3,  -1,  -1,   0,\n",
       "         -8,  -5,  -3,  -4,  -1,   5,  -3,   2,  -6,   1,  -1,   3,   0,\n",
       "          7,  -5,  -1,  -8,   7,   4,   1,  -8, -10,   8,  -1,  -5,  -5,\n",
       "         -8,  -6,   6,   3,   8,   2,   0,  -4,   8,  -1, -10,   7,   0,\n",
       "          8,   2,  -7,  -6,  -5],\n",
       "       [  5,  -3,   3,   3,   1,   3,   3,  -3,  -9, -10,   5,  -8,   0,\n",
       "          6,   2,  -3,   4,   4,   6,  -9,   5,  -9,   2,  -8,  -5,  -9,\n",
       "          8,   3,  -4,  -9,  -1,  -4,   7,   2,   2,   0,  -4,   9,  -4,\n",
       "          4,  -2,   6,   9,  -4,  -6,  -2,   8,   8,   2,   2,  -4,  -1,\n",
       "          7,   5,   0,   2,  -5,   9,  -3,  -3,  -8,  -1,  -4,  -4,  -2,\n",
       "          8,   4,   6,  -3,  -4],\n",
       "       [  3,   3,  -8,  -7,  -5, -10,   1, -10,   5,   6, -10,   7,  -5,\n",
       "          7,   9,   0,  -6,   0, -10,  -6,   3,  -5,  -4,   7,   9,   7,\n",
       "          4,   8,   3,  -6, -10,   2,  -1,   3,   6,  -3,  -9,  -6,   9,\n",
       "        -10,   3,  -9,  -2,   9,   3,   2,   5,  -4,   8,  -3,  -1,   7,\n",
       "        -10,   3,   3,   7,   8,   1,   0,   8,  -9,  -1,  -9,  -4,   3,\n",
       "          0,   1,  -6,   3,  -6]])"
      ]
     },
     "execution_count": 9,
     "metadata": {},
     "output_type": "execute_result"
    }
   ],
   "source": [
    "corrected_matrix = np.resize(array, (5, 70))\n",
    "corrected_matrix"
   ]
  },
  {
   "cell_type": "markdown",
   "metadata": {},
   "source": [
    "#### Choose values greater than 0 from your corrected_matrix."
   ]
  },
  {
   "cell_type": "code",
   "execution_count": 11,
   "metadata": {},
   "outputs": [
    {
     "data": {
      "text/plain": [
       "array([1, 3, 1, 4, 4, 7, 5, 5, 7, 8, 9, 3, 9, 8, 7, 3, 3, 4, 7, 7, 5, 6,\n",
       "       6, 5, 3, 8, 4, 2, 9, 8, 3, 2, 9, 8, 6, 4, 2, 5, 5, 8, 9, 3, 5, 9,\n",
       "       4, 1, 8, 1, 6, 2, 4, 2, 9, 9, 8, 3, 2, 3, 6, 6, 1, 8, 3, 3, 1, 2,\n",
       "       7, 5, 4, 7, 5, 2, 1, 2, 5, 2, 3, 6, 4, 4, 3, 5, 2, 1, 3, 7, 7, 4,\n",
       "       1, 8, 6, 3, 8, 2, 8, 7, 8, 2, 5, 3, 3, 1, 3, 3, 5, 6, 2, 4, 4, 6,\n",
       "       5, 2, 8, 3, 7, 2, 2, 9, 4, 6, 9, 8, 8, 2, 2, 7, 5, 2, 9, 8, 4, 6,\n",
       "       3, 3, 1, 5, 6, 7, 7, 9, 3, 7, 9, 7, 4, 8, 3, 2, 3, 6, 9, 3, 9, 3,\n",
       "       2, 5, 8, 7, 3, 3, 7, 8, 1, 8, 3, 1, 3])"
      ]
     },
     "execution_count": 11,
     "metadata": {},
     "output_type": "execute_result"
    }
   ],
   "source": [
    "# Get values greater than 0\n",
    "corrected_matrix[corrected_matrix > 0]"
   ]
  },
  {
   "cell_type": "markdown",
   "metadata": {},
   "source": [
    "#### Given this array x = np.array ([- 5,6, -7,9]), create another array in absolute value "
   ]
  },
  {
   "cell_type": "code",
   "execution_count": 13,
   "metadata": {},
   "outputs": [
    {
     "data": {
      "text/plain": [
       "(array([-5,  6, -7,  9]), array([5, 6, 7, 9]))"
      ]
     },
     "execution_count": 13,
     "metadata": {},
     "output_type": "execute_result"
    }
   ],
   "source": [
    "# Create array x\n",
    "x = np.array([-5,6,-7,9])\n",
    "# Create absolute value array\n",
    "y = np.absolute(x)\n",
    "x, y"
   ]
  },
  {
   "cell_type": "markdown",
   "metadata": {},
   "source": [
    "#### Given this array x = np.array ([- 5,6, -7,9]), transform it into a 2x2 matrix and calculate the maximum and minimum of each row and column. "
   ]
  },
  {
   "cell_type": "code",
   "execution_count": 15,
   "metadata": {},
   "outputs": [
    {
     "data": {
      "text/plain": [
       "(array([[-5,  6],\n",
       "        [-7,  9]]),\n",
       " 'max in columns:',\n",
       " array([-5,  9]),\n",
       " 'min in columns:',\n",
       " array([-7,  6]),\n",
       " 'max in rows:',\n",
       " array([6, 9]),\n",
       " 'min in rows:',\n",
       " array([-5, -7]))"
      ]
     },
     "execution_count": 15,
     "metadata": {},
     "output_type": "execute_result"
    }
   ],
   "source": [
    "# Reshape array x\n",
    "x_reshaped = x.reshape(2,2)\n",
    "# Get max for columns\n",
    "columnmax = np.max(x_reshaped, 0)\n",
    "# Get min for columns\n",
    "columnmin = np.min(x_reshaped,0)\n",
    "# Get max for rows\n",
    "rowmax = np.max(x_reshaped,1)\n",
    "# Get min for rows\n",
    "rowmin = np.min(x_reshaped,1)\n",
    "x_reshaped,'max in columns:',columnmax,'min in columns:',columnmin,'max in rows:',rowmax,'min in rows:',rowmin"
   ]
  },
  {
   "cell_type": "markdown",
   "metadata": {},
   "source": [
    "#### Create a matrix of ones with 3x3 range as a_ones, and modify the the a_ones[1][0] = 3  "
   ]
  },
  {
   "cell_type": "code",
   "execution_count": 17,
   "metadata": {},
   "outputs": [
    {
     "data": {
      "text/plain": [
       "array([[1., 1.],\n",
       "       [3., 1.],\n",
       "       [1., 1.]])"
      ]
     },
     "execution_count": 17,
     "metadata": {},
     "output_type": "execute_result"
    }
   ],
   "source": [
    "# Create a_ones matrix(Changed from 3x3 to 3x2 for dot product)\n",
    "a_ones = np.ones((3,2))\n",
    "# Modify [1][0]\n",
    "a_ones[1][0] = 3\n",
    "\n",
    "a_ones\n"
   ]
  },
  {
   "cell_type": "markdown",
   "metadata": {},
   "source": [
    "#### Compute dot product for a_ones and x_reshaped"
   ]
  },
  {
   "cell_type": "code",
   "execution_count": 19,
   "metadata": {},
   "outputs": [
    {
     "data": {
      "text/plain": [
       "array([[-12.,  15.],\n",
       "       [-22.,  27.],\n",
       "       [-12.,  15.]])"
      ]
     },
     "execution_count": 19,
     "metadata": {},
     "output_type": "execute_result"
    }
   ],
   "source": [
    "# Compute dot product of a_ones and x_reshaped\n",
    "dotprod = np.dot(a_ones,x_reshaped)\n",
    "dotprod\n",
    "\n",
    "# List the mathematical calculation steps\n",
    "# dotprod1 = (1. * -5) + (1. * -7) = -12.\n",
    "# dotprod2 = (1. * 6) + (1. * 9) = 15.\n",
    "# dotprod3 = (3. * -5) + (1. * -7) = -22.\n",
    "# dotprod4 = (3. * 6) + (1. * 9) = 27.\n",
    "# dotprod5 = (1. * -5) + (1. * -7) = -12\n",
    "# dotprod6 = (1. * 6) + (1. * 9) = 15."
   ]
  },
  {
   "cell_type": "markdown",
   "metadata": {},
   "source": [
    "## Exercise 2 - Plot Practice"
   ]
  },
  {
   "cell_type": "markdown",
   "metadata": {},
   "source": [
    "#### Undergraduate student Instructions (CS457)\n",
    "\n",
    "- Let's think if we have this function: f (t) defined by: f (t) = 2t / (1 + t ^ 2) ^ 2 with t> 0.\n",
    "- Where t could be generated by np.linspace(0,10,100)\n",
    "- Provide plot results"
   ]
  },
  {
   "cell_type": "code",
   "execution_count": 22,
   "metadata": {},
   "outputs": [],
   "source": [
    "# Define function\n",
    "def comp(t):\n",
    "    return (2 * (t))/(1+(t**2))**2\n",
    "# Value of t\n",
    "t = np.linspace(0,10,100)\n",
    "# f(t)\n",
    "y = comp(t)"
   ]
  },
  {
   "cell_type": "code",
   "execution_count": 23,
   "metadata": {},
   "outputs": [
    {
     "data": {
      "image/png": "[encoded data removed]",
      "text/plain": [
       "<Figure size 800x500 with 1 Axes>"
      ]
     },
     "metadata": {},
     "output_type": "display_data"
    }
   ],
   "source": [
    "# Plot graph with x, y and label set the fontsize = 14\n",
    "plt.figure(figsize=(8,5))\n",
    "plt.plot(y, color='blue', label='f(t)')\n",
    "plt.plot(t, color='red', label='t')\n",
    "# Plot <Your Name> + title and set the fontsize = 14\n",
    "# plot size as (8,5)\n",
    "#plt.figure(figsize=(8,5))\n",
    "# plot with legend\n",
    "# plot with grid\n",
    "plt.legend()\n",
    "plt.grid(alpha=0.4)\n",
    "plt.title(\"<Ruby> + Graph of $y = \\\\frac{2x}{(1+x^2)^2}$\", fontsize=14)\n",
    "\n",
    "plt.show()"
   ]
  },
  {
   "cell_type": "markdown",
   "metadata": {
    "jp-MarkdownHeadingCollapsed": true
   },
   "source": [
    "#### Graduate student Instructions (CS557)\n",
    "\n",
    "- Let's think if we have this function: f (t) defined by: f (t) = 2t / (1 + t ^ 2) ^ 2 with t> 0.\n",
    "- Where t could be generated by np.linspace(0,10,100)\n",
    "- Provide line graph with mask = star\n",
    "- Provide bar graph with any 5 points data"
   ]
  },
  {
   "cell_type": "code",
   "execution_count": 25,
   "metadata": {},
   "outputs": [],
   "source": [
    "# Your code:\n"
   ]
  },
  {
   "cell_type": "code",
   "execution_count": 26,
   "metadata": {},
   "outputs": [
    {
     "data": {
      "image/png": "[encoded data removed]",
      "text/plain": [
       "<Figure size 640x480 with 1 Axes>"
      ]
     },
     "metadata": {},
     "output_type": "display_data"
    }
   ],
   "source": [
    "# Line Graph\n",
    "# Plot graph with x, y and label set the fontsize = 14\n",
    "# Plot <Your Name> + title and set the fontsize = 14\n",
    "# plot size as (8,5)\n",
    "# plot with legend\n",
    "# plot with grid\n",
    "\n",
    "\n",
    "plt.title(\"<Your Name> + Graph of $y = \\\\frac{2x}{(1+x^2)^2}$\", fontsize=14)\n",
    "\n",
    "plt.show()"
   ]
  },
  {
   "cell_type": "code",
   "execution_count": 27,
   "metadata": {},
   "outputs": [
    {
     "data": {
      "image/png": "[encoded data removed]",
      "text/plain": [
       "<Figure size 640x480 with 1 Axes>"
      ]
     },
     "metadata": {},
     "output_type": "display_data"
    }
   ],
   "source": [
    "# Bar Graph\n",
    "# Plot graph with x, y and label set the fontsize = 14\n",
    "# Plot <Your Name> + title and set the fontsize = 14\n",
    "# plot size as (8,5)\n",
    "# plot with legend\n",
    "# plot with grid\n",
    "\n",
    "\n",
    "plt.title(\"<Your Name> + Graph of $y = \\\\frac{2x}{(1+x^2)^2}$\", fontsize=14)\n",
    "\n",
    "plt.show()"
   ]
  },
  {
   "cell_type": "markdown",
   "metadata": {},
   "source": [
    "# Exercise 3 - Pandas "
   ]
  },
  {
   "cell_type": "markdown",
   "metadata": {},
   "source": [
    "#### You have obtained a piece of data about a hill. Please manually assign this data to a dictionary.\n",
    "\n",
    "\n",
    "\"Hill Name\": [\"Everest\", \"K2\", \"Kangchenjunga\", \"Lhotse\", \"Makalu\", \"Cho Oyu\", \"Dhaulagiri\", \"Manaslu\", \"Nanga Parbat\", \"Annapurna\"],\n",
    "\n",
    "\"Height (m)\": [8848, 8611, 8586, 8516, 8485, 8188, 8167, 8163, 8126, 8091],\n",
    "\n",
    "\"Location\": [\"Nepal/China\", \"Pakistan/China\", \"Nepal/India\", \"Nepal/China\", \"Nepal/China\", \"Nepal/China\", \"Nepal\", \"Nepal\", \"Pakistan\", \"Nepal\"],\n",
    "\n",
    "\"First Ascent Year\": [1953, 1954, 1955, 1956, 1955, 1954, 1960, 1956, 1953, 1950],\n",
    "\n",
    "\"Prominence (m)\": [8848, 4017, 3922, 610, 2378, 2340, 3357, 3092, 4608, 2984]\n"
   ]
  },
  {
   "cell_type": "code",
   "execution_count": 30,
   "metadata": {},
   "outputs": [],
   "source": [
    "# Insert data into dictionary\n",
    "hill_data =  {'Hill Name':['Everest', 'K2', 'Kangchenjunga', 'Lhotse', 'Makalu', 'Cho Oyu', 'Dhaulagiri', 'Manaslu', 'Nanga Parbat', 'Annapurna'],\n",
    "              'Height(m)':[8848, 8611, 8586, 8516, 8485, 8188, 8167, 8163, 8126, 8091],\n",
    "              'Location':['Nepal/China', 'Pakistan/China', 'Nepal/India', 'Nepal/China', 'Nepal/China', 'Nepal/China', 'Nepal', 'Nepal', 'Pakistan', 'Nepal'],\n",
    "                'First Ascent Year':[1953, 1954, 1955, 1956, 1955, 1954, 1960, 1956, 1953, 1950],\n",
    "              'Prominence(m)':[8848,4017,3922,610,2378,2340,3357,3092,4608,2984]}\n"
   ]
  },
  {
   "cell_type": "markdown",
   "metadata": {},
   "source": [
    "#### Convert your dictionary to a pandas dataframe with name hill_pd"
   ]
  },
  {
   "cell_type": "code",
   "execution_count": 32,
   "metadata": {},
   "outputs": [],
   "source": [
    "# Convert dictionary to dataframe\n",
    "hill_pd = pd.DataFrame(hill_data)"
   ]
  },
  {
   "cell_type": "markdown",
   "metadata": {},
   "source": [
    "#### Save your hill_pd to csv"
   ]
  },
  {
   "cell_type": "code",
   "execution_count": 34,
   "metadata": {},
   "outputs": [],
   "source": [
    "# Save dataframe to csv\n",
    "hill_pd.to_csv('hill_pd.csv', index=False)"
   ]
  },
  {
   "cell_type": "markdown",
   "metadata": {},
   "source": [
    "#### Read your hill data from your csv"
   ]
  },
  {
   "cell_type": "code",
   "execution_count": 36,
   "metadata": {},
   "outputs": [
    {
     "data": {
      "text/html": [
       "<div>\n",
       "<style scoped>\n",
       "    .dataframe tbody tr th:only-of-type {\n",
       "        vertical-align: middle;\n",
       "    }\n",
       "\n",
       "    .dataframe tbody tr th {\n",
       "        vertical-align: top;\n",
       "    }\n",
       "\n",
       "    .dataframe thead th {\n",
       "        text-align: right;\n",
       "    }\n",
       "</style>\n",
       "<table border=\"1\" class=\"dataframe\">\n",
       "  <thead>\n",
       "    <tr style=\"text-align: right;\">\n",
       "      <th></th>\n",
       "      <th>Hill Name</th>\n",
       "      <th>Height(m)</th>\n",
       "      <th>Location</th>\n",
       "      <th>First Ascent Year</th>\n",
       "      <th>Prominence(m)</th>\n",
       "    </tr>\n",
       "  </thead>\n",
       "  <tbody>\n",
       "    <tr>\n",
       "      <th>0</th>\n",
       "      <td>Everest</td>\n",
       "      <td>8848</td>\n",
       "      <td>Nepal/China</td>\n",
       "      <td>1953</td>\n",
       "      <td>8848</td>\n",
       "    </tr>\n",
       "    <tr>\n",
       "      <th>1</th>\n",
       "      <td>K2</td>\n",
       "      <td>8611</td>\n",
       "      <td>Pakistan/China</td>\n",
       "      <td>1954</td>\n",
       "      <td>4017</td>\n",
       "    </tr>\n",
       "    <tr>\n",
       "      <th>2</th>\n",
       "      <td>Kangchenjunga</td>\n",
       "      <td>8586</td>\n",
       "      <td>Nepal/India</td>\n",
       "      <td>1955</td>\n",
       "      <td>3922</td>\n",
       "    </tr>\n",
       "    <tr>\n",
       "      <th>3</th>\n",
       "      <td>Lhotse</td>\n",
       "      <td>8516</td>\n",
       "      <td>Nepal/China</td>\n",
       "      <td>1956</td>\n",
       "      <td>610</td>\n",
       "    </tr>\n",
       "    <tr>\n",
       "      <th>4</th>\n",
       "      <td>Makalu</td>\n",
       "      <td>8485</td>\n",
       "      <td>Nepal/China</td>\n",
       "      <td>1955</td>\n",
       "      <td>2378</td>\n",
       "    </tr>\n",
       "    <tr>\n",
       "      <th>5</th>\n",
       "      <td>Cho Oyu</td>\n",
       "      <td>8188</td>\n",
       "      <td>Nepal/China</td>\n",
       "      <td>1954</td>\n",
       "      <td>2340</td>\n",
       "    </tr>\n",
       "    <tr>\n",
       "      <th>6</th>\n",
       "      <td>Dhaulagiri</td>\n",
       "      <td>8167</td>\n",
       "      <td>Nepal</td>\n",
       "      <td>1960</td>\n",
       "      <td>3357</td>\n",
       "    </tr>\n",
       "    <tr>\n",
       "      <th>7</th>\n",
       "      <td>Manaslu</td>\n",
       "      <td>8163</td>\n",
       "      <td>Nepal</td>\n",
       "      <td>1956</td>\n",
       "      <td>3092</td>\n",
       "    </tr>\n",
       "    <tr>\n",
       "      <th>8</th>\n",
       "      <td>Nanga Parbat</td>\n",
       "      <td>8126</td>\n",
       "      <td>Pakistan</td>\n",
       "      <td>1953</td>\n",
       "      <td>4608</td>\n",
       "    </tr>\n",
       "    <tr>\n",
       "      <th>9</th>\n",
       "      <td>Annapurna</td>\n",
       "      <td>8091</td>\n",
       "      <td>Nepal</td>\n",
       "      <td>1950</td>\n",
       "      <td>2984</td>\n",
       "    </tr>\n",
       "  </tbody>\n",
       "</table>\n",
       "</div>"
      ],
      "text/plain": [
       "       Hill Name  Height(m)        Location  First Ascent Year  Prominence(m)\n",
       "0        Everest       8848     Nepal/China               1953           8848\n",
       "1             K2       8611  Pakistan/China               1954           4017\n",
       "2  Kangchenjunga       8586     Nepal/India               1955           3922\n",
       "3         Lhotse       8516     Nepal/China               1956            610\n",
       "4         Makalu       8485     Nepal/China               1955           2378\n",
       "5        Cho Oyu       8188     Nepal/China               1954           2340\n",
       "6     Dhaulagiri       8167           Nepal               1960           3357\n",
       "7        Manaslu       8163           Nepal               1956           3092\n",
       "8   Nanga Parbat       8126        Pakistan               1953           4608\n",
       "9      Annapurna       8091           Nepal               1950           2984"
      ]
     },
     "execution_count": 36,
     "metadata": {},
     "output_type": "execute_result"
    }
   ],
   "source": [
    "# Read csv\n",
    "pd.read_csv('hill_pd.csv')"
   ]
  },
  {
   "cell_type": "markdown",
   "metadata": {},
   "source": [
    "#### Please select hills with an altitude higher than 8100 meters and express them in the form of a bar graph."
   ]
  },
  {
   "cell_type": "code",
   "execution_count": 38,
   "metadata": {},
   "outputs": [],
   "source": [
    "# Select hills with altitude higher than 8100\n",
    "selected_hill = hill_pd[hill_pd['Height(m)'] > 8100]"
   ]
  },
  {
   "cell_type": "code",
   "execution_count": 39,
   "metadata": {},
   "outputs": [
    {
     "data": {
      "text/plain": [
       "<Axes: title={'center': '<Ruby>-Hill Heights'}, xlabel='Hill Name'>"
      ]
     },
     "execution_count": 39,
     "metadata": {},
     "output_type": "execute_result"
    },
    {
     "data": {
      "image/png": "[encoded data removed]",
      "text/plain": [
       "<Figure size 640x480 with 1 Axes>"
      ]
     },
     "metadata": {},
     "output_type": "display_data"
    }
   ],
   "source": [
    "# Visualization\n",
    "# Need to add x,y labels, titles and grid.\n",
    "# Please add your name on graph titles.\n",
    "selected_hill.plot(x=\"Hill Name\",y=\"Height(m)\",kind=\"bar\",grid=True,title=\"<Ruby>-Hill Heights\",ylim=(8000,9000))\n"
   ]
  },
  {
   "cell_type": "markdown",
   "metadata": {},
   "source": [
    "#### For Graduate students only (CS557)\n",
    "\n",
    "Please add another set of visualizations using the **Prominence** data and explain their significance."
   ]
  },
  {
   "cell_type": "code",
   "execution_count": null,
   "metadata": {},
   "outputs": [],
   "source": []
  }
 ],
 "metadata": {
  "kernelspec": {
   "display_name": "Python [conda env:base] *",
   "language": "python",
   "name": "conda-base-py"
  },
  "language_info": {
   "codemirror_mode": {
    "name": "ipython",
    "version": 3
   },
   "file_extension": ".py",
   "mimetype": "text/x-python",
   "name": "python",
   "nbconvert_exporter": "python",
   "pygments_lexer": "ipython3",
   "version": "3.12.7"
  }
 },
 "nbformat": 4,
 "nbformat_minor": 4
}
