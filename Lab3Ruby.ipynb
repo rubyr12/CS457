{
 "cells": [
  {
   "cell_type": "markdown",
   "id": "488b8266",
   "metadata": {},
   "source": [
    "# Lab Assignment: Building a Neural Network from Scratch\n",
    "\n",
    "### Objective\n",
    "This lab guides you through the implementation of a simple feedforward neural network from scratch. \n",
    "By completing this lab, you will:\n",
    "- Initialize a neural network with weights and biases.\n",
    "- Compute the weighted sum at each node.\n",
    "- Apply activation functions for node outputs.\n",
    "- Perform forward propagation to compute predictions.\n",
    "- Implement backpropagation to compute gradients.\n",
    "- Update weights using gradients to minimize the loss."
   ]
  },
  {
   "cell_type": "markdown",
   "id": "2668a14e",
   "metadata": {},
   "source": [
    "## Step 1: Initialize the Network"
   ]
  },
  {
   "cell_type": "code",
   "execution_count": 84,
   "id": "396df339",
   "metadata": {},
   "outputs": [
    {
     "name": "stdout",
     "output_type": "stream",
     "text": [
      "<Ruby> + Initialized Network: {'Layer_1': {'Node_1': {'Weights': array([0.37, 0.95, 0.73]), 'Bias': array([0.6])}, 'Node_2': {'Weights': array([0.16, 0.16, 0.06]), 'Bias': array([0.87])}, 'Node_3': {'Weights': array([0.6 , 0.71, 0.02]), 'Bias': array([0.97])}, 'Node_4': {'Weights': array([0.83, 0.21, 0.18]), 'Bias': array([0.18])}}, 'Layer_2': {'Node_1': {'Weights': array([0.3 , 0.52, 0.43, 0.29]), 'Bias': array([0.61])}, 'Node_2': {'Weights': array([0.14, 0.29, 0.37, 0.46]), 'Bias': array([0.79])}, 'Node_3': {'Weights': array([0.2 , 0.51, 0.59, 0.05]), 'Bias': array([0.61])}}, 'Output': {'Node_1': {'Weights': array([0.17, 0.07, 0.95]), 'Bias': array([0.97])}}}\n"
     ]
    }
   ],
   "source": [
    "# Import numpy library\n",
    "import numpy as np\n",
    "np.random.seed(42) # For reproducibility\n",
    "# Function to initialize network\n",
    "def initialize_network(input_size, hidden_layers, output_size):\n",
    "    # Previous layer nodes\n",
    "    numNodesPrev = input_size\n",
    "    # Number of hidden layers\n",
    "    numHidden = len(hidden_layers)\n",
    "    # Empty dictionary for network\n",
    "    network = {}\n",
    "    # Loop through layers and initialize weights and biases\n",
    "    for layer in range (numHidden + 1):\n",
    "        # Last layer in network\n",
    "        if layer == numHidden:\n",
    "            layerName = 'Output'\n",
    "            numNodes = output_size\n",
    "        # Other layers\n",
    "        else:\n",
    "            layerName = 'Layer_{}'.format(layer + 1)\n",
    "            numNodes = hidden_layers[layer]\n",
    "        # Initialize weights and biases for nodes\n",
    "        network[layerName] = {}\n",
    "        for node in range(numNodes):\n",
    "            nodeName = 'Node_{}'.format(node + 1)\n",
    "            network[layerName][nodeName] = {\n",
    "                'Weights' : np.around(np.random.uniform(size = numNodesPrev), decimals = 2),\n",
    "                'Bias' : np.around(np.random.uniform(size = 1), decimals = 2),\n",
    "            }\n",
    "        numNodesPrev = numNodes\n",
    "    return network\n",
    "    \n",
    "\n",
    "# Initialize a network with 3 inputs, 2 hidden layers (4 and 3 nodes), and 1 output node\n",
    "network = initialize_network(3, [4, 3], 1)\n",
    "print(\"<Ruby> + Initialized Network:\", network)"
   ]
  },
  {
   "cell_type": "markdown",
   "id": "3ecfdd84",
   "metadata": {},
   "source": [
    "## Step 2: Compute Weighted Sum"
   ]
  },
  {
   "cell_type": "code",
   "execution_count": 86,
   "id": "66c4ad58",
   "metadata": {},
   "outputs": [
    {
     "name": "stdout",
     "output_type": "stream",
     "text": [
      "<Ruby> + Weighted Sum: [1.048] [0.988] [1.414] [1.445]\n"
     ]
    }
   ],
   "source": [
    "# Function to compute the weighted sums\n",
    "def compute_weighted_sum(inputs, weights, biases):\n",
    "    return np.sum(inputs * weights) + biases\n",
    "\n",
    "# Test weighted sum\n",
    "inputs = np.array([[0.5, 0.2, 0.1]])\n",
    "layer = network['Layer_1']  # First layer\n",
    "Z1 = compute_weighted_sum(inputs, layer['Node_1']['Weights'], layer['Node_1']['Bias'])\n",
    "Z2 = compute_weighted_sum(inputs, layer['Node_2']['Weights'], layer['Node_2']['Bias'])\n",
    "Z3 = compute_weighted_sum(inputs, layer['Node_3']['Weights'], layer['Node_3']['Bias'])\n",
    "Z4 = compute_weighted_sum(inputs, layer['Node_4']['Weights'], layer['Node_3']['Bias'])\n",
    "print(\"<Ruby> + Weighted Sum:\", Z1, Z2, Z3, Z4)"
   ]
  },
  {
   "cell_type": "markdown",
   "id": "7d82553f",
   "metadata": {},
   "source": [
    "## Step 3: Compute Node Activation"
   ]
  },
  {
   "cell_type": "code",
   "execution_count": 88,
   "id": "36b00bf0",
   "metadata": {},
   "outputs": [
    {
     "name": "stdout",
     "output_type": "stream",
     "text": [
      "<Ruby> + Activation: (array([0.74039066]), array([0.7286927]), array([0.80439608]), array([0.80922774]))\n"
     ]
    }
   ],
   "source": [
    "# Sigmoid function as activation function\n",
    "def sigmoid(Z):\n",
    "    return 1.0 / (1.0 + np.exp(-1 * Z))\n",
    "# Sigmoid derivative function\n",
    "def sigmoid_derivative(A):\n",
    "    return A * (1 - A)\n",
    "\n",
    "# Compute activation for the weighted sum\n",
    "A = sigmoid(Z1), sigmoid(Z2), sigmoid(Z3), sigmoid(Z4)\n",
    "print(\"<Ruby> + Activation:\", A)"
   ]
  },
  {
   "cell_type": "markdown",
   "id": "769f9c55",
   "metadata": {},
   "source": [
    "## Step 4: Perform Forward Propagation"
   ]
  },
  {
   "cell_type": "code",
   "execution_count": 90,
   "id": "5d2e9d28",
   "metadata": {},
   "outputs": [
    {
     "name": "stdout",
     "output_type": "stream",
     "text": [
      "Outputs of nodes in hidden layer number 1 is [array([0.7404]), array([0.7287]), array([0.8044]), array([0.6581])]\n",
      "Outputs of nodes in hidden layer number 2 is [array([0.9941]), array([0.9888]), array([0.9897])]\n",
      "[array([0.9891])]\n",
      "<Ruby> + Final Output:[[0.9891]]\n"
     ]
    }
   ],
   "source": [
    "# Forward propogation function\n",
    "def forward_propagation(inputs, network):\n",
    "    # Input layer\n",
    "    layerIn = list(inputs)\n",
    "    # Loop through layers\n",
    "    for layer in network:\n",
    "        layerData = network[layer]\n",
    "        layerOut = [] \n",
    "        for layerNode in layerData:\n",
    "            nodeData = layerData[layerNode]\n",
    "            # Compute weighted sum and outputs\n",
    "            nodeOutput = sigmoid(compute_weighted_sum(layerIn, nodeData['Weights'], nodeData['Bias']))\n",
    "            layerOut.append(np.around(nodeOutput, decimals = 4))\n",
    "        if layer != 'Output':\n",
    "            print('Outputs of nodes in hidden layer number {} is {}'.format(layer.split('_')[1], layerOut))\n",
    "        layerIn = layerOut\n",
    "    networkPredict = layerOut\n",
    "    return networkPredict\n",
    "\n",
    "# Perform forward propagation\n",
    "activations = forward_propagation(inputs, network)\n",
    "print(activations)\n",
    "print(\"<Ruby> + Final Output:{}\".format(np.around(activations, decimals = 4)))"
   ]
  },
  {
   "cell_type": "markdown",
   "id": "e342f58d",
   "metadata": {},
   "source": [
    "## Step 5: Backpropagation"
   ]
  },
  {
   "cell_type": "code",
   "execution_count": 92,
   "id": "1ec4d75a",
   "metadata": {},
   "outputs": [
    {
     "ename": "ValueError",
     "evalue": "shapes (1,1) and (3,1) not aligned: 1 (dim 1) != 3 (dim 0)",
     "output_type": "error",
     "traceback": [
      "\u001b[1;31m---------------------------------------------------------------------------\u001b[0m",
      "\u001b[1;31mValueError\u001b[0m                                Traceback (most recent call last)",
      "Cell \u001b[1;32mIn[92], line 22\u001b[0m\n\u001b[0;32m     20\u001b[0m \u001b[38;5;66;03m# Compute gradients\u001b[39;00m\n\u001b[0;32m     21\u001b[0m y_true \u001b[38;5;241m=\u001b[39m np\u001b[38;5;241m.\u001b[39marray([[\u001b[38;5;241m1\u001b[39m]])  \u001b[38;5;66;03m# Example target output\u001b[39;00m\n\u001b[1;32m---> 22\u001b[0m gradients \u001b[38;5;241m=\u001b[39m backpropagation(network, activations, y_true)\n\u001b[0;32m     23\u001b[0m \u001b[38;5;28mprint\u001b[39m(\u001b[38;5;124m\"\u001b[39m\u001b[38;5;124m<Ruby> + Gradients:\u001b[39m\u001b[38;5;124m\"\u001b[39m, gradients)\n",
      "Cell \u001b[1;32mIn[92], line 18\u001b[0m, in \u001b[0;36mbackpropagation\u001b[1;34m(network, activations, y_true)\u001b[0m\n\u001b[0;32m     16\u001b[0m         nextLayer \u001b[38;5;241m=\u001b[39m network[nextLayerName]\n\u001b[0;32m     17\u001b[0m         weightMatrix \u001b[38;5;241m=\u001b[39m np\u001b[38;5;241m.\u001b[39marray([node[\u001b[38;5;124m'\u001b[39m\u001b[38;5;124mWeights\u001b[39m\u001b[38;5;124m'\u001b[39m] \u001b[38;5;28;01mfor\u001b[39;00m node \u001b[38;5;129;01min\u001b[39;00m nextLayer\u001b[38;5;241m.\u001b[39mvalues()])\n\u001b[1;32m---> 18\u001b[0m         delta \u001b[38;5;241m=\u001b[39m np\u001b[38;5;241m.\u001b[39mdot(delta, weightMatrix\u001b[38;5;241m.\u001b[39mT) \u001b[38;5;241m*\u001b[39m sigmoid_derivative(activations[layerRev \u001b[38;5;241m+\u001b[39m \u001b[38;5;241m1\u001b[39m])\n\u001b[0;32m     19\u001b[0m \u001b[38;5;28;01mreturn\u001b[39;00m network\n",
      "\u001b[1;31mValueError\u001b[0m: shapes (1,1) and (3,1) not aligned: 1 (dim 1) != 3 (dim 0)"
     ]
    }
   ],
   "source": [
    "# Backpropogation function\n",
    "def backpropagation(network, activations, y_true):\n",
    "    # Compute output layer deltas\n",
    "    deltaOut = (activations[-1] - y_true) * sigmoid_derivative(activations[-1])\n",
    "    # Loop through layers in reverse\n",
    "    for layerRev in reversed(range(len(network))):\n",
    "        # Current layer name and data\n",
    "        layerName = list(network.keys())[layerRev]\n",
    "        currLayer = network[layerName]\n",
    "        # Output layer\n",
    "        if layerName == 'Output':\n",
    "            delta = deltaOut\n",
    "        # Hidden layers\n",
    "        else:\n",
    "            nextLayerName = list(network.keys())[layerRev + 1]\n",
    "            nextLayer = network[nextLayerName]\n",
    "            weightMatrix = np.array([node['Weights'] for node in nextLayer.values()])\n",
    "            delta = np.dot(delta, weightMatrix.T) * sigmoid_derivative(activations[layerRev + 1])\n",
    "    return network\n",
    "# Compute gradients\n",
    "y_true = np.array([[1]])  # Example target output\n",
    "gradients = backpropagation(network, activations, y_true)\n",
    "print(\"<Ruby> + Gradients:\", gradients)"
   ]
  },
  {
   "cell_type": "markdown",
   "id": "d6b81797-9f82-493a-a509-b1360f04071c",
   "metadata": {},
   "source": [
    "## Step 6: Update Weights"
   ]
  },
  {
   "cell_type": "code",
   "execution_count": 6,
   "id": "33990e4e-9a02-4728-9ff5-fc41e7ef42be",
   "metadata": {},
   "outputs": [
    {
     "name": "stdout",
     "output_type": "stream",
     "text": [
      "Updated Network: [{'weights': array([[ 0.04967806, -0.0138271 ,  0.06476341,  0.15231013],\n",
      "       [-0.02341268, -0.02341397,  0.1579191 ,  0.07674633],\n",
      "       [-0.04694611,  0.05425587, -0.04634286, -0.04657155]]), 'biases': array([[ 1.32969732e-05, -1.34967278e-06, -1.08942558e-05,\n",
      "         1.42945225e-05]])}, {'weights': array([[ 0.02410747, -0.19131013, -0.17267946],\n",
      "       [-0.05631655, -0.1012654 ,  0.03123907],\n",
      "       [-0.09089309, -0.14121208,  0.14637311],\n",
      "       [-0.02266952,  0.00677135, -0.14266914]]), 'biases': array([[-1.76144443e-04,  3.55243016e-05, -3.72480905e-04]])}, {'weights': array([[-0.04819881],\n",
      "       [ 0.01687515],\n",
      "       [-0.10884617]]), 'biases': array([[0.01296059]])}]\n"
     ]
    }
   ],
   "source": [
    "def update_weights(network, gradients, learning_rate):\n",
    "    # Hints: weights -= learning_rate * 'dW'\n",
    "    # Hints: biases -= learning_rate * 'db'\n",
    "    # Provide your code\n",
    "    \n",
    "\n",
    "# Update weights with a learning rate of 0.1\n",
    "update_weights(network, gradients, learning_rate=0.1)\n",
    "print(\"<Ruby> + Updated Network:\", network)"
   ]
  },
  {
   "cell_type": "markdown",
   "id": "ed55add1",
   "metadata": {},
   "source": [
    "## Step 7: Visualizing Loss Changes"
   ]
  },
  {
   "cell_type": "code",
   "execution_count": 7,
   "id": "9fe355dc",
   "metadata": {},
   "outputs": [],
   "source": [
    "# Use MSE to compute the loss \n",
    "def compute_loss(y_true, y_pred):\n",
    "    # provide your code\n",
    "    return np.mean((y_true - y_pred) ** 2)"
   ]
  },
  {
   "cell_type": "code",
   "execution_count": 10,
   "id": "f7270921",
   "metadata": {},
   "outputs": [
    {
     "data": {
      "image/png": "[encoded data removed]",
      "text/plain": [
       "<Figure size 640x480 with 1 Axes>"
      ]
     },
     "metadata": {},
     "output_type": "display_data"
    }
   ],
   "source": [
    "import matplotlib.pyplot as plt\n",
    "\n",
    "# Training Loop\n",
    "losses = []\n",
    "inputs = np.array([[0.5, 0.2, 0.1]])\n",
    "y_true = np.array([[1]])\n",
    "learning_rate = 0.1\n",
    "\n",
    "for iteration in range(100):\n",
    "    # provide your code\n",
    "    # Hints: forward_propagation function with inputs network\n",
    "    #        compute_loss for y_true and activations[-1]\n",
    "    #        add loss to losses\n",
    "     \n",
    "\n",
    "    # gradients = backpropagation function\n",
    "    # update_weights\n",
    "    activations = forward_propogation(inputs, network)\n",
    "    loss = compute_loss(y_true, activations[-1])\n",
    "    losses.append(loss)\n",
    "    network = back_propogation(network, activations, y_true)\n",
    "    \n",
    "    \n",
    "# Plot Loss and rerun all cells\n",
    "plt.plot(losses)\n",
    "plt.title(\"<Ruby> + Loss Before and After Weight Updates\")\n",
    "plt.xlabel(\"Iterations\")\n",
    "plt.ylabel(\"Loss\")\n",
    "plt.show()\n"
   ]
  },
  {
   "cell_type": "markdown",
   "id": "737f4b49-9f2b-4e5c-8f75-cb102fc858e0",
   "metadata": {},
   "source": [
    "### Step 8: Visualizing Gradients Changes (Graduate students)"
   ]
  },
  {
   "cell_type": "markdown",
   "id": "42a89b54-adeb-4a5d-89b2-1883ce9634a7",
   "metadata": {},
   "source": [
    "Please pick a weight and plot the gradient change\n",
    "\n",
    "You need to point which weight you pick and label it on your graph."
   ]
  },
  {
   "cell_type": "code",
   "execution_count": null,
   "id": "e59f30cb-09da-48e9-9551-d9055db6e26b",
   "metadata": {},
   "outputs": [],
   "source": [
    "# Your code"
   ]
  },
  {
   "cell_type": "code",
   "execution_count": null,
   "id": "57f0d830-3ed2-4d96-9a72-3cca41792c07",
   "metadata": {},
   "outputs": [],
   "source": []
  }
 ],
 "metadata": {
  "kernelspec": {
   "display_name": "Python [conda env:base] *",
   "language": "python",
   "name": "conda-base-py"
  },
  "language_info": {
   "codemirror_mode": {
    "name": "ipython",
    "version": 3
   },
   "file_extension": ".py",
   "mimetype": "text/x-python",
   "name": "python",
   "nbconvert_exporter": "python",
   "pygments_lexer": "ipython3",
   "version": "3.12.7"
  }
 },
 "nbformat": 4,
 "nbformat_minor": 5
}
